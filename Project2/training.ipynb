{
 "cells": [
  {
   "cell_type": "markdown",
   "metadata": {
    "cell_id": "ebe73293958544e4b89981500bd0b031",
    "deepnote_app_block_visible": true,
    "deepnote_cell_type": "markdown"
   },
   "source": [
    "# HW2: Evaluation of TFLite Accuracy & Size\n",
    "\n",
    "Use this notebook to measure TFLite and Accuracy of your model."
   ]
  },
  {
   "cell_type": "markdown",
   "metadata": {
    "cell_id": "c3b01b47bd814d17b1ac86a5a59bf6f8",
    "deepnote_app_block_visible": true,
    "deepnote_cell_type": "markdown"
   },
   "source": [
    "### Import the required modules"
   ]
  },
  {
   "cell_type": "code",
   "execution_count": 1,
   "metadata": {
    "cell_id": "a68ec4372ff749fe9d9c4aaed2023463",
    "deepnote_app_block_visible": true,
    "deepnote_app_coordinates": {
     "h": 5,
     "w": 12,
     "x": 0,
     "y": 1
    },
    "deepnote_app_is_code_hidden": false,
    "deepnote_app_is_output_hidden": false,
    "deepnote_cell_type": "code",
    "deepnote_to_be_reexecuted": false,
    "execution_context_id": "649792f6-b9b3-474a-bc90-c065ac6beb3a",
    "execution_millis": 7118,
    "execution_start": 1735945522795,
    "source_hash": "429d9851",
    "tags": []
   },
   "outputs": [
    {
     "name": "stderr",
     "output_type": "stream",
     "text": [
      "2025-01-03 23:05:27.280477: I tensorflow/core/util/port.cc:110] oneDNN custom operations are on. You may see slightly different numerical results due to floating-point round-off errors from different computation orders. To turn them off, set the environment variable `TF_ENABLE_ONEDNN_OPTS=0`.\n",
      "2025-01-03 23:05:27.285225: I tensorflow/tsl/cuda/cudart_stub.cc:28] Could not find cuda drivers on your machine, GPU will not be used.\n",
      "2025-01-03 23:05:27.321550: I tensorflow/tsl/cuda/cudart_stub.cc:28] Could not find cuda drivers on your machine, GPU will not be used.\n",
      "2025-01-03 23:05:27.323689: I tensorflow/core/platform/cpu_feature_guard.cc:182] This TensorFlow binary is optimized to use available CPU instructions in performance-critical operations.\n",
      "To enable the following instructions: AVX2 AVX512F AVX512_VNNI FMA, in other operations, rebuild TensorFlow with the appropriate compiler flags.\n",
      "2025-01-03 23:05:28.230408: W tensorflow/compiler/tf2tensorrt/utils/py_utils.cc:38] TF-TRT Warning: Could not find TensorRT\n"
     ]
    }
   ],
   "source": [
    "import tensorflow as tf\n",
    "import numpy as np\n",
    "import os\n",
    "import zipfile\n",
    "from glob import glob\n",
    "import random\n",
    "\n",
    "from tensorflow.keras import regularizers\n",
    "\n",
    "\n",
    "from reader import AudioReader\n",
    "from preprocessing import Padding, Normalization  \n",
    "from preprocessing import MelSpectrogram\n",
    "from preprocessing import MFCC"
   ]
  },
  {
   "cell_type": "markdown",
   "metadata": {
    "cell_id": "9237499ef82745a3a089ee979cd3c962",
    "deepnote_app_block_visible": true,
    "deepnote_app_coordinates": {
     "h": 5,
     "w": 12,
     "x": 0,
     "y": 7
    },
    "deepnote_cell_type": "markdown",
    "tags": []
   },
   "source": [
    "### Set Model & Hyperparameters\n",
    "\n",
    "**You may only modify the following cell by setting the values for `MODEL_FILE_NAME` and `PREPROCESSING_ARGS`. Ensure that the `PREPROCESSING_ARGS` values match those used during training. No other modifications are permitted in this notebook.**"
   ]
  },
  {
   "cell_type": "code",
   "execution_count": 2,
   "metadata": {
    "cell_id": "e1a3ba4826964827b36dece762541740",
    "deepnote_app_block_visible": true,
    "deepnote_app_coordinates": {
     "h": 5,
     "w": 12,
     "x": 0,
     "y": 13
    },
    "deepnote_app_is_code_hidden": false,
    "deepnote_app_is_output_hidden": false,
    "deepnote_cell_type": "code",
    "deepnote_to_be_reexecuted": false,
    "execution_context_id": "f59756ca-70a1-488e-a397-05aad8d5fc92",
    "execution_millis": 0,
    "execution_start": 1735945529966,
    "source_hash": "c258940c",
    "tags": []
   },
   "outputs": [],
   "source": [
    "# where we store the dataset\n",
    "DATASET_PATH = '/tmp/'\n",
    "\n",
    "SEED = 42\n",
    "\n",
    "PREPROCESSING_ARGS = {\n",
    "    'sampling_rate': 16000,\n",
    "    'frame_length_in_s': 0.04,\n",
    "    'frame_step_in_s': 0.02,\n",
    "    'num_mel_bins': 40,\n",
    "    'lower_frequency': 20,\n",
    "    'upper_frequency': 4000,\n",
    "    'num_coefficients': 10  # set num_coefficients to 0 if log-Mel Spectrogram features have been used\n",
    "}\n",
    "\n",
    "TRAINING_ARGS = {\n",
    "    'batch_size':32 ,# from 16 \n",
    "    'learning_rate': 0.01,\n",
    "    'end_learning_rate': 1e-5,\n",
    "    'epochs': 25,\n",
    "    'width_multiplier': 0.6\n",
    "}\n",
    "\n",
    "MODEL_NAME = (\n",
    "    \"SR_\" + str(PREPROCESSING_ARGS['sampling_rate']) + \n",
    "    \"_FL_\" + str(PREPROCESSING_ARGS['frame_length_in_s']) + \n",
    "    \"_FS_\" + str(PREPROCESSING_ARGS['frame_step_in_s']) + \n",
    "    \"_NMEL_\" + str(PREPROCESSING_ARGS['num_mel_bins']) + \n",
    "    \"_LF_\" + str(PREPROCESSING_ARGS['lower_frequency']) + \n",
    "    \"_UF_\" + str(PREPROCESSING_ARGS['upper_frequency']) + \n",
    "    \"_NC_\" + str(PREPROCESSING_ARGS['num_coefficients']) + \n",
    "    \"_BS_\" + str(TRAINING_ARGS['batch_size']) + \n",
    "    \"_LR_\" + str(TRAINING_ARGS['learning_rate']) + \n",
    "    \"_E_\" + str(TRAINING_ARGS['epochs']) + \n",
    "    \"_WM_\" + str(TRAINING_ARGS['width_multiplier'])\n",
    ")\n",
    "\n",
    "MODEL_FILE_PATH =  \"./tflite_models/Group06.tflite\"\n",
    "\n",
    "\n",
    "LABELS = ['down', 'up']\n",
    "\n",
    "\n",
    "# Set seed for Python's built-in random module\n",
    "random.seed(SEED)\n",
    "\n",
    "# Set seed for NumPy\n",
    "np.random.seed(SEED)\n",
    "\n",
    "# Set seed for TensorFlow\n",
    "tf.random.set_seed(SEED)"
   ]
  },
  {
   "cell_type": "markdown",
   "metadata": {
    "cell_id": "5fecb30a987747fbb39b91b185e277cd",
    "deepnote_app_block_visible": false,
    "deepnote_cell_type": "markdown"
   },
   "source": [
    "### Create train/val/test Datasets"
   ]
  },
  {
   "cell_type": "code",
   "execution_count": 3,
   "metadata": {
    "cell_id": "26af3e37d17741b09b0786c25a779150",
    "deepnote_cell_type": "code",
    "execution_context_id": "649792f6-b9b3-474a-bc90-c065ac6beb3a",
    "execution_millis": 266,
    "execution_start": 1735945530014,
    "source_hash": "944d11b1"
   },
   "outputs": [],
   "source": [
    "train_ds = tf.data.Dataset.list_files([DATASET_PATH + '/msc-train/up*', DATASET_PATH + '/msc-train/down*'], seed = SEED)\n",
    "val_ds = tf.data.Dataset.list_files([DATASET_PATH + '/msc-val/up*', DATASET_PATH + '/msc-val/down*'], seed = SEED)\n",
    "test_ds = tf.data.Dataset.list_files([DATASET_PATH + '/msc-test/up*',  DATASET_PATH + '/msc-test/down*'], seed = SEED)"
   ]
  },
  {
   "cell_type": "markdown",
   "metadata": {
    "cell_id": "5329dbb0af74450a88061f860bd88ee5",
    "deepnote_app_block_visible": false,
    "deepnote_cell_type": "markdown"
   },
   "source": [
    "### Define the Data Pipeline"
   ]
  },
  {
   "cell_type": "code",
   "execution_count": 4,
   "metadata": {
    "cell_id": "c2e5d928200f418983626196b2f78b20",
    "deepnote_cell_type": "code",
    "execution_context_id": "649792f6-b9b3-474a-bc90-c065ac6beb3a",
    "execution_millis": 2735,
    "execution_start": 1735945530330,
    "source_hash": "490ab1ae"
   },
   "outputs": [
    {
     "name": "stderr",
     "output_type": "stream",
     "text": [
      "2025-01-03 23:05:30.808855: I tensorflow_io/core/kernels/cpu_check.cc:128] Your CPU supports instructions that this TensorFlow IO binary was not compiled to use: AVX AVX2 AVX512F FMA\n",
      "2025-01-03 23:05:30.812669: W tensorflow_io/core/kernels/audio_video_mp3_kernels.cc:271] libmp3lame.so.0 or lame functions are not available\n"
     ]
    }
   ],
   "source": [
    "audio_reader = AudioReader(tf.int16)\n",
    "padding = Padding(PREPROCESSING_ARGS['sampling_rate'])\n",
    "normalization = Normalization(tf.int16)\n",
    "\n",
    "if PREPROCESSING_ARGS['num_coefficients'] == 0:\n",
    "    PREPROCESSING_ARGS.pop('num_coefficients')\n",
    "    feature_processor = MelSpectrogram(**PREPROCESSING_ARGS)\n",
    "    feature_processor_fn = feature_processor.get_mel_spec_and_label\n",
    "    PREPROCESSING_ARGS['num_coefficients'] = 0\n",
    "else:\n",
    "    feature_processor = MFCC(**PREPROCESSING_ARGS)\n",
    "    feature_processor_fn = feature_processor.get_mfccs_and_label\n",
    "\n",
    "def prepare_for_training(feature, label):\n",
    "    feature = tf.expand_dims(feature, -1)\n",
    "    label_id = tf.argmax(label == LABELS)\n",
    "\n",
    "    return feature, label_id\n",
    "\n",
    "train_ds = (train_ds\n",
    "            .map(audio_reader.get_audio_and_label)\n",
    "            .map(padding.pad)\n",
    "            .map(normalization.normalize)\n",
    "            .map(feature_processor_fn)\n",
    "            .map(prepare_for_training)\n",
    "            .batch(TRAINING_ARGS['batch_size'])\n",
    "            .cache()\n",
    "            )\n",
    "val_ds = (val_ds\n",
    "            .map(audio_reader.get_audio_and_label)\n",
    "            .map(padding.pad)\n",
    "            .map(normalization.normalize)\n",
    "            .map(feature_processor_fn)\n",
    "            .map(prepare_for_training)\n",
    "            .batch(TRAINING_ARGS['batch_size']))\n",
    "test_ds = (test_ds\n",
    "            .map(audio_reader.get_audio_and_label)\n",
    "            .map(padding.pad)\n",
    "            .map(normalization.normalize)\n",
    "            .map(feature_processor_fn)\n",
    "            .map(prepare_for_training)\n",
    "            .batch(TRAINING_ARGS['batch_size']))"
   ]
  },
  {
   "cell_type": "code",
   "execution_count": 5,
   "metadata": {
    "cell_id": "dc735a109c0b47bd8ca1a806ef8cee7f",
    "deepnote_cell_type": "code",
    "execution_context_id": "649792f6-b9b3-474a-bc90-c065ac6beb3a",
    "execution_millis": 467,
    "execution_start": 1735945533110,
    "source_hash": "bff6ae20"
   },
   "outputs": [
    {
     "name": "stdout",
     "output_type": "stream",
     "text": [
      "Batch Shape: (32, 49, 10, 1)\n",
      "Data Shape: (49, 10, 1)\n",
      "Labels: tf.Tensor([0 0 1 1 1 0 1 0 0 1 0 0 1 0 1 0 0 1 1 1 0 0 0 0 1 0 0 1 1 0 1 1], shape=(32,), dtype=int64)\n",
      "example_batch.shape[1:] (49, 10, 1)\n",
      "2025-01-03 23:05:33.564279: W tensorflow/core/kernels/data/cache_dataset_ops.cc:854] The calling iterator did not fully read the dataset being cached. In order to avoid unexpected truncation of the dataset, the partially cached contents of the dataset  will be discarded. This can happen if you have an input pipeline similar to `dataset.cache().take(k).repeat()`. You should use `dataset.take(k).cache().repeat()` instead.\n"
     ]
    }
   ],
   "source": [
    "for example_batch, example_labels in train_ds.take(1):\n",
    "  print('Batch Shape:', example_batch.shape)\n",
    "  print('Data Shape:', example_batch.shape[1:])\n",
    "  print('Labels:', example_labels)\n",
    "  print(\"example_batch.shape[1:]\", example_batch.shape[1:])"
   ]
  },
  {
   "cell_type": "markdown",
   "metadata": {
    "cell_id": "032f3cabc5bf480d931a1ce7a9ecadae",
    "deepnote_app_block_visible": true,
    "deepnote_app_coordinates": {
     "h": 5,
     "w": 12,
     "x": 0,
     "y": 19
    },
    "deepnote_cell_type": "markdown",
    "tags": []
   },
   "source": [
    "### Define the model"
   ]
  },
  {
   "cell_type": "code",
   "execution_count": 6,
   "metadata": {
    "cell_id": "8dc029759325421498521655902df7a8",
    "deepnote_app_block_visible": true,
    "deepnote_app_coordinates": {
     "h": 5,
     "w": 12,
     "x": 0,
     "y": 25
    },
    "deepnote_app_is_code_hidden": false,
    "deepnote_app_is_output_hidden": false,
    "deepnote_cell_type": "code",
    "execution_context_id": "649792f6-b9b3-474a-bc90-c065ac6beb3a",
    "execution_millis": 900,
    "execution_start": 1735945533626,
    "source_hash": "4ad0524",
    "tags": []
   },
   "outputs": [
    {
     "name": "stdout",
     "output_type": "stream",
     "text": [
      "Model: \"sequential\"\n",
      "_________________________________________________________________\n",
      " Layer (type)                Output Shape              Param #   \n",
      "=================================================================\n",
      " conv2d (Conv2D)             (None, 24, 4, 76)         684       \n",
      "                                                                 \n",
      " batch_normalization (Batch  (None, 24, 4, 76)         304       \n",
      " Normalization)                                                  \n",
      "                                                                 \n",
      " re_lu (ReLU)                (None, 24, 4, 76)         0         \n",
      "                                                                 \n",
      " depthwise_conv2d (Depthwis  (None, 24, 4, 76)         684       \n",
      " eConv2D)                                                        \n",
      "                                                                 \n",
      " conv2d_1 (Conv2D)           (None, 24, 4, 76)         5776      \n",
      "                                                                 \n",
      " batch_normalization_1 (Bat  (None, 24, 4, 76)         304       \n",
      " chNormalization)                                                \n",
      "                                                                 \n",
      " re_lu_1 (ReLU)              (None, 24, 4, 76)         0         \n",
      "                                                                 \n",
      " depthwise_conv2d_1 (Depthw  (None, 24, 4, 76)         684       \n",
      " iseConv2D)                                                      \n",
      "                                                                 \n",
      " conv2d_2 (Conv2D)           (None, 24, 4, 38)         2888      \n",
      "                                                                 \n",
      " batch_normalization_2 (Bat  (None, 24, 4, 38)         152       \n",
      " chNormalization)                                                \n",
      "                                                                 \n",
      " re_lu_2 (ReLU)              (None, 24, 4, 38)         0         \n",
      "                                                                 \n",
      " global_average_pooling2d (  (None, 38)                0         \n",
      " GlobalAveragePooling2D)                                         \n",
      "                                                                 \n",
      " dense (Dense)               (None, 2)                 78        \n",
      "                                                                 \n",
      "=================================================================\n",
      "Total params: 11554 (45.13 KB)\n",
      "Trainable params: 11174 (43.65 KB)\n",
      "Non-trainable params: 380 (1.48 KB)\n",
      "_________________________________________________________________\n",
      "None\n"
     ]
    },
    {
     "data": {
      "image/png": "[encoded data removed]",
      "text/plain": [
       "<IPython.core.display.Image object>"
      ]
     },
     "execution_count": 6,
     "metadata": {
      "image/png": {
       "height": 1325,
       "width": 537
      }
     },
     "output_type": "execute_result"
    }
   ],
   "source": [
    "wm = TRAINING_ARGS[\"width_multiplier\"]  # Adjust the width multiplier to control model size\n",
    "\n",
    "model = tf.keras.Sequential([\n",
    "    tf.keras.layers.Input(shape=example_batch.shape[1:]),\n",
    "\n",
    "    # First Convolutional Block\n",
    "    tf.keras.layers.Conv2D(filters=int(128 * wm), kernel_size=[3, 3], strides=[2, 2],\n",
    "                           use_bias=False, padding='valid'),\n",
    "    tf.keras.layers.BatchNormalization(),\n",
    "    tf.keras.layers.ReLU(),\n",
    "\n",
    "    # First Depthwise Separable Convolution\n",
    "    tf.keras.layers.DepthwiseConv2D(kernel_size=[3, 3], strides=[1, 1], use_bias=False, padding='same'),\n",
    "    tf.keras.layers.Conv2D(filters=int(128 * wm), kernel_size=[1, 1], strides=[1, 1], use_bias=False),\n",
    "    tf.keras.layers.BatchNormalization(),\n",
    "    tf.keras.layers.ReLU(),\n",
    "\n",
    "    # Second Depthwise Separable Convolution\n",
    "    tf.keras.layers.DepthwiseConv2D(kernel_size=[3, 3], strides=[1, 1], use_bias=False, padding='same'),\n",
    "    tf.keras.layers.Conv2D(filters=int(64 * wm), kernel_size=[1, 1], strides=[1, 1], use_bias=False),\n",
    "    tf.keras.layers.BatchNormalization(),\n",
    "    tf.keras.layers.ReLU(),\n",
    "\n",
    "    # Global Pooling and Output Layer\n",
    "    tf.keras.layers.GlobalAveragePooling2D(),\n",
    "    tf.keras.layers.Dense(units=len(LABELS), activation='softmax')\n",
    "])\n",
    "\n",
    "print(model.summary())\n",
    "\n",
    "tf.keras.utils.plot_model(model)"
   ]
  },
  {
   "cell_type": "markdown",
   "metadata": {
    "cell_id": "5e1ca65035254032b148a321ae5df5e6",
    "deepnote_app_block_visible": true,
    "deepnote_cell_type": "markdown"
   },
   "source": [
    "### Train the Model (with Callbacks)\n",
    "\n",
    "- Modify the `learning_rate` argument of the `Adam` optimizer.\n",
    "- Modify the `fit` method, specifying the `callbacks` argument."
   ]
  },
  {
   "cell_type": "code",
   "execution_count": 7,
   "metadata": {
    "cell_id": "3448ccb951db40018af5a91ca4630618",
    "deepnote_cell_type": "code",
    "execution_context_id": "649792f6-b9b3-474a-bc90-c065ac6beb3a",
    "execution_millis": 112105,
    "execution_start": 1735945534574,
    "source_hash": "b4517534"
   },
   "outputs": [
    {
     "name": "stdout",
     "output_type": "stream",
     "text": [
      "Epoch 1/25\n",
      "50/50 [==============================] - 21s 390ms/step - loss: 0.3803 - sparse_categorical_accuracy: 0.8413 - val_loss: 0.4638 - val_sparse_categorical_accuracy: 0.8950 - lr: 0.0096\n",
      "Epoch 2/25\n",
      "50/50 [==============================] - 4s 76ms/step - loss: 0.1551 - sparse_categorical_accuracy: 0.9456 - val_loss: 0.5509 - val_sparse_categorical_accuracy: 0.7400 - lr: 0.0092\n",
      "Epoch 3/25\n",
      "50/50 [==============================] - 4s 78ms/step - loss: 0.1127 - sparse_categorical_accuracy: 0.9613 - val_loss: 0.9660 - val_sparse_categorical_accuracy: 0.6750 - lr: 0.0088\n",
      "Epoch 4/25\n",
      "50/50 [==============================] - 4s 75ms/step - loss: 0.0907 - sparse_categorical_accuracy: 0.9694 - val_loss: 0.1609 - val_sparse_categorical_accuracy: 0.9450 - lr: 0.0084\n",
      "Epoch 5/25\n",
      "50/50 [==============================] - 4s 76ms/step - loss: 0.0746 - sparse_categorical_accuracy: 0.9706 - val_loss: 0.0524 - val_sparse_categorical_accuracy: 0.9800 - lr: 0.0080\n",
      "Epoch 6/25\n",
      "50/50 [==============================] - 4s 76ms/step - loss: 0.0644 - sparse_categorical_accuracy: 0.9775 - val_loss: 0.0595 - val_sparse_categorical_accuracy: 0.9850 - lr: 0.0076\n",
      "Epoch 7/25\n",
      "50/50 [==============================] - 4s 76ms/step - loss: 0.0508 - sparse_categorical_accuracy: 0.9831 - val_loss: 0.0512 - val_sparse_categorical_accuracy: 0.9750 - lr: 0.0072\n",
      "Epoch 8/25\n",
      "50/50 [==============================] - 4s 76ms/step - loss: 0.0441 - sparse_categorical_accuracy: 0.9844 - val_loss: 0.1043 - val_sparse_categorical_accuracy: 0.9550 - lr: 0.0068\n",
      "Epoch 9/25\n",
      "50/50 [==============================] - 4s 76ms/step - loss: 0.0456 - sparse_categorical_accuracy: 0.9819 - val_loss: 0.0582 - val_sparse_categorical_accuracy: 0.9750 - lr: 0.0064\n",
      "Epoch 10/25\n",
      "50/50 [==============================] - 4s 75ms/step - loss: 0.0390 - sparse_categorical_accuracy: 0.9850 - val_loss: 0.0691 - val_sparse_categorical_accuracy: 0.9700 - lr: 0.0060\n",
      "Epoch 11/25\n",
      "50/50 [==============================] - 4s 76ms/step - loss: 0.0281 - sparse_categorical_accuracy: 0.9919 - val_loss: 0.1582 - val_sparse_categorical_accuracy: 0.9350 - lr: 0.0056\n",
      "Epoch 12/25\n",
      "50/50 [==============================] - 4s 76ms/step - loss: 0.0228 - sparse_categorical_accuracy: 0.9919 - val_loss: 0.1142 - val_sparse_categorical_accuracy: 0.9550 - lr: 0.0052\n",
      "Epoch 13/25\n",
      "50/50 [==============================] - 4s 75ms/step - loss: 0.0223 - sparse_categorical_accuracy: 0.9937 - val_loss: 0.0722 - val_sparse_categorical_accuracy: 0.9750 - lr: 0.0048\n",
      "Epoch 14/25\n",
      "50/50 [==============================] - 4s 77ms/step - loss: 0.0195 - sparse_categorical_accuracy: 0.9931 - val_loss: 0.1264 - val_sparse_categorical_accuracy: 0.9500 - lr: 0.0044\n",
      "Epoch 15/25\n",
      "50/50 [==============================] - 4s 77ms/step - loss: 0.0166 - sparse_categorical_accuracy: 0.9956 - val_loss: 0.0377 - val_sparse_categorical_accuracy: 0.9800 - lr: 0.0040\n",
      "Epoch 16/25\n",
      "50/50 [==============================] - 4s 76ms/step - loss: 0.0129 - sparse_categorical_accuracy: 0.9950 - val_loss: 0.0364 - val_sparse_categorical_accuracy: 0.9800 - lr: 0.0036\n",
      "Epoch 17/25\n",
      "50/50 [==============================] - 4s 76ms/step - loss: 0.0112 - sparse_categorical_accuracy: 0.9956 - val_loss: 0.0397 - val_sparse_categorical_accuracy: 0.9800 - lr: 0.0032\n",
      "Epoch 18/25\n",
      "50/50 [==============================] - 4s 79ms/step - loss: 0.0099 - sparse_categorical_accuracy: 0.9969 - val_loss: 0.0420 - val_sparse_categorical_accuracy: 0.9800 - lr: 0.0028\n",
      "Epoch 19/25\n",
      "50/50 [==============================] - 4s 79ms/step - loss: 0.0091 - sparse_categorical_accuracy: 0.9975 - val_loss: 0.0426 - val_sparse_categorical_accuracy: 0.9800 - lr: 0.0024\n",
      "Epoch 20/25\n",
      "50/50 [==============================] - 4s 76ms/step - loss: 0.0084 - sparse_categorical_accuracy: 0.9975 - val_loss: 0.0418 - val_sparse_categorical_accuracy: 0.9800 - lr: 0.0020\n",
      "Epoch 21/25\n",
      "50/50 [==============================] - 4s 77ms/step - loss: 0.0078 - sparse_categorical_accuracy: 0.9975 - val_loss: 0.0411 - val_sparse_categorical_accuracy: 0.9800 - lr: 0.0016\n",
      "Epoch 22/25\n",
      "50/50 [==============================] - 4s 76ms/step - loss: 0.0073 - sparse_categorical_accuracy: 0.9981 - val_loss: 0.0416 - val_sparse_categorical_accuracy: 0.9800 - lr: 0.0012\n",
      "Epoch 23/25\n",
      "50/50 [==============================] - 4s 77ms/step - loss: 0.0069 - sparse_categorical_accuracy: 0.9981 - val_loss: 0.0417 - val_sparse_categorical_accuracy: 0.9800 - lr: 8.0892e-04\n",
      "Epoch 24/25\n",
      "50/50 [==============================] - 4s 77ms/step - loss: 0.0066 - sparse_categorical_accuracy: 0.9981 - val_loss: 0.0414 - val_sparse_categorical_accuracy: 0.9800 - lr: 4.0896e-04\n",
      "Epoch 25/25\n",
      "50/50 [==============================] - 4s 78ms/step - loss: 0.0064 - sparse_categorical_accuracy: 0.9981 - val_loss: 0.0413 - val_sparse_categorical_accuracy: 0.9800 - lr: 8.9993e-06\n"
     ]
    }
   ],
   "source": [
    "# Define independent learning rate schedules\n",
    "linear_decay_optimizer = tf.keras.optimizers.schedules.PolynomialDecay(\n",
    "    initial_learning_rate=0.01,  # Custom LR for the optimizer\n",
    "    end_learning_rate=1e-6,\n",
    "    decay_steps=len(train_ds) * TRAINING_ARGS['epochs'],\n",
    ")\n",
    "\n",
    "linear_decay_callback = tf.keras.optimizers.schedules.PolynomialDecay(\n",
    "    initial_learning_rate=TRAINING_ARGS['learning_rate'],  # From TRAINING_ARGS\n",
    "    end_learning_rate=TRAINING_ARGS['end_learning_rate'], \n",
    "    decay_steps=int(len(train_ds) * TRAINING_ARGS['epochs'] * 0.3),  # Faster decay for callback\n",
    ")\n",
    "\n",
    "# Learning Rate Scheduler callback (uses the callback schedule)\n",
    "def lr_scheduler_callback(epoch, lr):\n",
    "    return linear_decay_callback(epoch)\n",
    "\n",
    "lr_scheduler = tf.keras.callbacks.LearningRateScheduler(lr_scheduler_callback)\n",
    "\n",
    "# Early Stopping\n",
    "early_stopping = tf.keras.callbacks.EarlyStopping(\n",
    "    monitor='val_loss',\n",
    "    patience=10,\n",
    "    verbose=1,\n",
    "    mode='auto'\n",
    ")\n",
    "\n",
    "# Compile the model with the optimizer's learning rate schedule\n",
    "loss = tf.losses.SparseCategoricalCrossentropy(from_logits=False)\n",
    "optimizer = tf.keras.optimizers.Adam(learning_rate=linear_decay_optimizer)\n",
    "metrics = [tf.metrics.SparseCategoricalAccuracy()]\n",
    "\n",
    "model.compile(loss=loss, optimizer=optimizer, metrics=metrics)\n",
    "\n",
    "# Train the model with independent schedules\n",
    "history = model.fit(\n",
    "    train_ds, \n",
    "    epochs=TRAINING_ARGS['epochs'],  \n",
    "    validation_data=val_ds, \n",
    "    callbacks=[lr_scheduler, early_stopping]\n",
    ")\n"
   ]
  },
  {
   "cell_type": "markdown",
   "metadata": {
    "cell_id": "9c80578bc2b44897b361977213506882",
    "deepnote_app_block_visible": false,
    "deepnote_cell_type": "markdown"
   },
   "source": [
    "### Evaluate the model"
   ]
  },
  {
   "cell_type": "code",
   "execution_count": 8,
   "metadata": {
    "cell_id": "c3fd1efff5a14f3b9bd5f4af68dedb7f",
    "deepnote_cell_type": "code",
    "execution_context_id": "649792f6-b9b3-474a-bc90-c065ac6beb3a",
    "execution_millis": 2159,
    "execution_start": 1735945646726,
    "source_hash": "9301a35a"
   },
   "outputs": [
    {
     "name": "stdout",
     "output_type": "stream",
     "text": [
      "7/7 [==============================] - 2s 269ms/step - loss: 0.0158 - sparse_categorical_accuracy: 0.9950\n",
      "Training Loss: 0.0064\n",
      "Training Accuracy: 99.81%\n",
      "\n",
      "Validation Loss: 0.0413\n",
      "Validation Accuracy: 98.00%\n",
      "\n",
      "Test Loss: 0.0158\n",
      "Test Accuracy: 99.50%\n"
     ]
    }
   ],
   "source": [
    "training_loss = history.history['loss'][-1]\n",
    "training_accuracy = history.history['sparse_categorical_accuracy'][-1]\n",
    "val_loss = history.history['val_loss'][-1]\n",
    "val_accuracy = history.history['val_sparse_categorical_accuracy'][-1]\n",
    " \n",
    "test_loss, test_accuracy = model.evaluate(test_ds)\n",
    "\n",
    "print(f'Training Loss: {training_loss:.4f}')\n",
    "print(f'Training Accuracy: {training_accuracy*100.:.2f}%')\n",
    "print()\n",
    "print(f'Validation Loss: {val_loss:.4f}')\n",
    "print(f'Validation Accuracy: {val_accuracy*100.:.2f}%')\n",
    "print()\n",
    "print(f'Test Loss: {test_loss:.4f}')\n",
    "print(f'Test Accuracy: {test_accuracy*100.:.2f}%')"
   ]
  },
  {
   "cell_type": "markdown",
   "metadata": {
    "cell_id": "ab0f023b20df4139be71e1ee223ac6a3",
    "deepnote_app_block_visible": false,
    "deepnote_cell_type": "markdown"
   },
   "source": [
    "### Save the model"
   ]
  },
  {
   "cell_type": "code",
   "execution_count": 9,
   "metadata": {
    "cell_id": "d19784de99d74fe9ba0a2dd838e1d277",
    "deepnote_cell_type": "code",
    "execution_context_id": "649792f6-b9b3-474a-bc90-c065ac6beb3a",
    "execution_millis": 7638,
    "execution_start": 1735945649006,
    "source_hash": "66024c65"
   },
   "outputs": [
    {
     "name": "stdout",
     "output_type": "stream",
     "text": [
      "INFO:tensorflow:Assets written to: saved_models/tmp-model/assets\n",
      "INFO:tensorflow:Assets written to: saved_models/tmp-model/assets\n",
      "2025-01-03 23:07:35.554792: W tensorflow/compiler/mlir/lite/python/tf_tfl_flatbuffer_helpers.cc:364] Ignored output_format.\n",
      "2025-01-03 23:07:35.555579: W tensorflow/compiler/mlir/lite/python/tf_tfl_flatbuffer_helpers.cc:367] Ignored drop_control_dependency.\n",
      "2025-01-03 23:07:35.710146: I tensorflow/cc/saved_model/reader.cc:45] Reading SavedModel from: saved_models/tmp-model\n",
      "2025-01-03 23:07:35.857389: I tensorflow/cc/saved_model/reader.cc:91] Reading meta graph with tags { serve }\n",
      "2025-01-03 23:07:35.857539: I tensorflow/cc/saved_model/reader.cc:132] Reading SavedModel debug info (if present) from: saved_models/tmp-model\n",
      "2025-01-03 23:07:35.861628: I tensorflow/compiler/mlir/mlir_graph_optimization_pass.cc:375] MLIR V1 optimization pass is not enabled\n",
      "2025-01-03 23:07:35.863152: I tensorflow/cc/saved_model/loader.cc:231] Restoring SavedModel bundle.\n",
      "2025-01-03 23:07:36.207883: I tensorflow/cc/saved_model/loader.cc:215] Running initialization op on SavedModel bundle at path: saved_models/tmp-model\n",
      "2025-01-03 23:07:36.233014: I tensorflow/cc/saved_model/loader.cc:314] SavedModel load for tags { serve }; Status: success: OK. Took 522880 microseconds.\n",
      "2025-01-03 23:07:36.251605: I tensorflow/compiler/mlir/tensorflow/utils/dump_mlir_util.cc:255] disabling MLIR crash reproducer, set env var `MLIR_CRASH_REPRODUCER_DIRECTORY` to enable.\n"
     ]
    }
   ],
   "source": [
    "model.save(\"saved_models/tmp-model\")\n",
    "\n",
    "converter = tf.lite.TFLiteConverter.from_saved_model(\"saved_models/tmp-model\")\n",
    "\n",
    "# Convert the model\n",
    "tflite_model = converter.convert()\n",
    "\n",
    "with open(MODEL_FILE_PATH, 'wb') as fp:\n",
    "    fp.write(tflite_model)"
   ]
  },
  {
   "cell_type": "markdown",
   "metadata": {
    "cell_id": "084827da03d6472dbbed482dcbce243e",
    "deepnote_app_block_visible": true,
    "deepnote_cell_type": "markdown"
   },
   "source": [
    "### Measure TFLite Model Size"
   ]
  },
  {
   "cell_type": "code",
   "execution_count": 10,
   "metadata": {
    "cell_id": "cfedab90487043338f4749cb894fe047",
    "deepnote_app_block_visible": true,
    "deepnote_cell_type": "code",
    "execution_context_id": "f2a9e80a-8aa5-448f-9537-1265bb91d217",
    "execution_millis": 36,
    "execution_start": 1735945656694,
    "source_hash": "c42f6874"
   },
   "outputs": [
    {
     "name": "stdout",
     "output_type": "stream",
     "text": [
      "model size is:  48136\n"
     ]
    }
   ],
   "source": [
    "model_size = os.path.getsize(MODEL_FILE_PATH)\n",
    "\n",
    "print(\"model size is: \", model_size)"
   ]
  },
  {
   "cell_type": "markdown",
   "metadata": {
    "cell_id": "7776d0c8d6534a33b1c42a1ccb38a37f",
    "deepnote_app_block_visible": true,
    "deepnote_app_coordinates": {
     "h": 5,
     "w": 12,
     "x": 0,
     "y": 31
    },
    "deepnote_cell_type": "markdown",
    "tags": []
   },
   "source": [
    "### Load the TFLite Model"
   ]
  },
  {
   "cell_type": "code",
   "execution_count": 11,
   "metadata": {
    "cell_id": "59a2a470d22f4a199e36f090a3a113ec",
    "deepnote_cell_type": "code",
    "execution_context_id": "bfe176ee-07c3-4d55-91f2-b0170689d820",
    "execution_millis": 1,
    "execution_start": 1735945656778,
    "source_hash": "fb3fc91d"
   },
   "outputs": [],
   "source": [
    "if PREPROCESSING_ARGS['num_coefficients'] == 0:\n",
    "    PREPROCESSING_ARGS.pop('num_coefficients')\n",
    "    feature_processor = MelSpectrogram(**PREPROCESSING_ARGS)\n",
    "    feature_processor_fn = feature_processor.get_mel_spec\n",
    "else:\n",
    "    feature_processor = MFCC(**PREPROCESSING_ARGS)\n",
    "    feature_processor_fn = feature_processor.get_mfccs"
   ]
  },
  {
   "cell_type": "code",
   "execution_count": 12,
   "metadata": {
    "cell_id": "2611806457674a67a9daef2d94588d5a",
    "deepnote_app_block_visible": true,
    "deepnote_app_coordinates": {
     "h": 5,
     "w": 12,
     "x": 0,
     "y": 37
    },
    "deepnote_app_is_code_hidden": false,
    "deepnote_app_is_output_hidden": false,
    "deepnote_cell_type": "code",
    "execution_context_id": "526f19d4-b731-4eb5-8add-f7b3571d89df",
    "execution_millis": 1,
    "execution_start": 1735945656958,
    "source_hash": "ba755cb",
    "tags": []
   },
   "outputs": [
    {
     "name": "stdout",
     "output_type": "stream",
     "text": [
      "Number of inputs: 1\n",
      "Number of outputs: 1\n",
      "Input name: serving_default_input_1:0\n",
      "Input shape: [ 1 49 10  1]\n",
      "Output name: StatefulPartitionedCall:0\n",
      "Output shape: [1 2]\n",
      "INFO: Created TensorFlow Lite XNNPACK delegate for CPU.\n"
     ]
    }
   ],
   "source": [
    "if MODEL_FILE_PATH.endswith('.zip'):\n",
    "    with zipfile.ZipFile(MODEL_FILE_PATH, 'r') as fp:\n",
    "        fp.extractall('/tmp/')\n",
    "        model_filename = fp.namelist()[0]\n",
    "        MODEL_FILE_PATH = '/tmp/' + model_filename\n",
    "\n",
    "interpreter = tf.lite.Interpreter(model_path=MODEL_FILE_PATH)\n",
    "interpreter.allocate_tensors()\n",
    "\n",
    "input_details = interpreter.get_input_details()\n",
    "output_details = interpreter.get_output_details()\n",
    "\n",
    "print(\"Number of inputs:\", len(input_details))\n",
    "print(\"Number of outputs:\", len(output_details))\n",
    "print(\"Input name:\", input_details[0]['name'])\n",
    "print(\"Input shape:\", input_details[0]['shape'])\n",
    "print(\"Output name:\", output_details[0]['name'])\n",
    "print(\"Output shape:\", output_details[0]['shape'])"
   ]
  },
  {
   "cell_type": "markdown",
   "metadata": {
    "cell_id": "ef584edf0dce4b3481abdaae8e922244",
    "deepnote_app_block_visible": true,
    "deepnote_app_coordinates": {
     "h": 5,
     "w": 12,
     "x": 0,
     "y": 43
    },
    "deepnote_cell_type": "markdown",
    "tags": []
   },
   "source": [
    "### Test the TFLite Model Accuracy"
   ]
  },
  {
   "cell_type": "code",
   "execution_count": 13,
   "metadata": {
    "cell_id": "07bbb1ae4930496da01f7f2c5358c2c2",
    "deepnote_app_block_visible": true,
    "deepnote_app_coordinates": {
     "h": 5,
     "w": 12,
     "x": 0,
     "y": 49
    },
    "deepnote_app_is_code_hidden": false,
    "deepnote_app_is_output_hidden": false,
    "deepnote_cell_type": "code",
    "execution_context_id": "649792f6-b9b3-474a-bc90-c065ac6beb3a",
    "execution_millis": 3793,
    "execution_start": 1735945657010,
    "source_hash": "ea276d95",
    "tags": []
   },
   "outputs": [],
   "source": [
    "filenames = glob('/tmp/msc-test/down*') + glob('/tmp/msc-test/up*')\n",
    "\n",
    "accuracy = 0.0\n",
    "\n",
    "for filename in filenames:\n",
    "    audio, true_label = audio_reader.get_audio_and_label(filename)   \n",
    "    true_label = true_label.numpy().decode()\n",
    "    \n",
    "    audio = padding.pad_audio(audio)\n",
    "    audio = normalization.normalize_audio(audio)\n",
    "    features = feature_processor_fn(audio)\n",
    "    features = tf.expand_dims(features, 0)\n",
    "    features = tf.expand_dims(features, -1)\n",
    "\n",
    "    interpreter.set_tensor(input_details[0]['index'], features)\n",
    "    interpreter.invoke()\n",
    "    output = interpreter.get_tensor(output_details[0]['index'])\n",
    "\n",
    "    top_index = np.argmax(output[0])\n",
    "    predicted_label = LABELS[top_index]\n",
    "\n",
    "    accuracy += true_label == predicted_label\n",
    "\n",
    "accuracy /= len(filenames)"
   ]
  },
  {
   "cell_type": "markdown",
   "metadata": {
    "cell_id": "b2a8f9d25ddf4eef8f8eceded81c4245",
    "deepnote_app_block_visible": true,
    "deepnote_app_coordinates": {
     "h": 5,
     "w": 12,
     "x": 0,
     "y": 61
    },
    "deepnote_cell_type": "markdown",
    "tags": []
   },
   "source": [
    "### Report the Test Results"
   ]
  },
  {
   "cell_type": "code",
   "execution_count": 14,
   "metadata": {
    "cell_id": "de9f63d110d844dfb9e048fc6cb00bf7",
    "deepnote_app_block_visible": true,
    "deepnote_app_coordinates": {
     "h": 5,
     "w": 12,
     "x": 0,
     "y": 67
    },
    "deepnote_app_is_code_hidden": false,
    "deepnote_app_is_output_hidden": false,
    "deepnote_cell_type": "code",
    "execution_context_id": "526f19d4-b731-4eb5-8add-f7b3571d89df",
    "execution_millis": 0,
    "execution_start": 1735945660851,
    "source_hash": "23300cd5",
    "tags": []
   },
   "outputs": [
    {
     "name": "stdout",
     "output_type": "stream",
     "text": [
      "Accuracy: 99.500%\n",
      "Model size: 47.0KB\n"
     ]
    }
   ],
   "source": [
    "model_size = os.path.getsize(MODEL_FILE_PATH)\n",
    "print(f'Accuracy: {100 * accuracy:.3f}%')\n",
    "print(f'Model size: {model_size / 2 ** 10:.1f}KB')"
   ]
  },
  {
   "cell_type": "markdown",
   "metadata": {
    "created_in_deepnote_cell": true,
    "deepnote_cell_type": "markdown"
   },
   "source": [
    "<a style='text-decoration:none;line-height:16px;display:flex;color:#5B5B62;padding:10px;justify-content:end;' href='https://deepnote.com?utm_source=created-in-deepnote-cell&projectId=cbfa3810-8232-4a94-b063-558c45bf0521' target=\"_blank\">\n",
    "<img alt='Created in deepnote.com' style='display:inline;max-height:16px;margin:0px;margin-right:7.5px;' src='data:image/svg+xml;base64,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' > </img>\n",
    "Created in <span style='font-weight:600;margin-left:4px;'>Deepnote</span></a>"
   ]
  }
 ],
 "metadata": {
  "deepnote_app_clear_outputs": false,
  "deepnote_app_comments_enabled": false,
  "deepnote_app_execution_enabled": false,
  "deepnote_app_hide_all_code_blocks_enabled": false,
  "deepnote_app_layout": "powerful-article",
  "deepnote_app_reactivity_enabled": false,
  "deepnote_app_run_on_input_enabled": false,
  "deepnote_app_run_on_load_enabled": false,
  "deepnote_app_width": "full-width",
  "deepnote_notebook_id": "7d32b2c602af424eaa49eb91c29d2992",
  "kernelspec": {
   "display_name": "ml4iot",
   "language": "python",
   "name": "python3"
  },
  "language_info": {
   "name": "python",
   "version": "3.11.11"
  }
 },
 "nbformat": 4,
 "nbformat_minor": 0
}
