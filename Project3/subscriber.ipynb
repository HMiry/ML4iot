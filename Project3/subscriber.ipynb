{
 "cells": [
  {
   "cell_type": "markdown",
   "metadata": {
    "cell_id": "88b81f3886e54d7aa9f9701ef8510a9e",
    "deepnote_app_coordinates": {
     "h": 5,
     "w": 12,
     "x": 0,
     "y": 1
    },
    "deepnote_cell_type": "markdown",
    "tags": []
   },
   "source": [
    "# Sensors Analytics REST API\n",
    "\n",
    "## Deploy the API\n",
    "- Go to the *Machine* tab, then set *Incoming connections* to **ON**. The API will be accessible through the indicated tunnelling link.  \n",
    "- Run the notebook.\n",
    "\n"
   ]
  },
  {
   "cell_type": "markdown",
   "metadata": {
    "cell_id": "861e1233ee2349beb04934e4efaffaed",
    "deepnote_cell_type": "markdown"
   },
   "source": [
    "## Import the required modules"
   ]
  },
  {
   "cell_type": "code",
   "execution_count": 1,
   "metadata": {
    "cell_id": "8cd340fce5074f1b897c58819db3412c",
    "deepnote_cell_type": "code",
    "execution_context_id": "fdaf3dc5-4b46-4393-8904-b50557f42635",
    "execution_millis": 252,
    "execution_start": 1737986298689,
    "source_hash": "f9535dc7"
   },
   "outputs": [],
   "source": [
    "import json\n",
    "import redis\n",
    "import time\n",
    "from datetime import datetime\n",
    "import paho.mqtt.client as mqtt"
   ]
  },
  {
   "cell_type": "markdown",
   "metadata": {
    "cell_id": "515e3af636c243afa50bdfa02b66e936",
    "deepnote_cell_type": "markdown"
   },
   "source": [
    "## Connect to the Redis Database"
   ]
  },
  {
   "cell_type": "code",
   "execution_count": 2,
   "metadata": {
    "cell_id": "9e6dfd0ccdf847ea9643ee378e724134",
    "deepnote_cell_type": "code",
    "execution_context_id": "fdaf3dc5-4b46-4393-8904-b50557f42635",
    "execution_millis": 427,
    "execution_start": 1737986298989,
    "source_hash": "da692323"
   },
   "outputs": [
    {
     "name": "stdout",
     "output_type": "stream",
     "text": [
      "Connected to Redis: True\n"
     ]
    }
   ],
   "source": [
    "REDIS_HOST=\"redis-12999.c135.eu-central-1-1.ec2.redns.redis-cloud.com\"\n",
    "REDIS_PORT=\"12999\"\n",
    "REDIS_USERNAME='default'\n",
    "REDIS_PASSWORD='LHz8VkDlHWjkAFh0jVh6WsyMQEe8c49D'\n",
    "\n",
    "redis_client = redis.Redis(host=REDIS_HOST, port=REDIS_PORT, username=REDIS_USERNAME, password=REDIS_PASSWORD)\n",
    "\n",
    "# Test Redis connection\n",
    "try:\n",
    "    response = redis_client.ping()\n",
    "    print(\"Connected to Redis:\", response)\n",
    "except Exception as e:\n",
    "    print(\"Redis connection failed:\", e)\n",
    "    exit(1)"
   ]
  },
  {
   "cell_type": "code",
   "execution_count": 3,
   "metadata": {
    "cell_id": "59dd56b4753045bc8325d8a55038e826",
    "deepnote_cell_type": "code",
    "execution_context_id": "fdaf3dc5-4b46-4393-8904-b50557f42635",
    "execution_millis": 0,
    "execution_start": 1737986299465,
    "source_hash": "28080461"
   },
   "outputs": [],
   "source": [
    "def create_timeseries_if_not_exists(redis_client, key, retention_msecs=30 * 24 * 60 * 60 * 1000):\n",
    "    try:\n",
    "        redis_client.ts().create(\n",
    "            key,\n",
    "            retention_msecs=retention_msecs,\n",
    "            chunk_size=128,\n",
    "            duplicate_policy=\"last\"\n",
    "        )\n",
    "        print(f\"Created TimeSeries {key}\")\n",
    "    except redis.ResponseError as e:\n",
    "        if \"already exists\" in str(e):\n",
    "            print(f\"TimeSeries {key} already exists\")\n",
    "        else:\n",
    "            raise\n",
    "\n",
    "# MQTT Callbacks\n",
    "def on_connect(client, userdata, flags, rc):\n",
    "    print(f\"Connected to MQTT broker with result code: {rc}\")\n",
    "    client.subscribe(MQTT_TOPIC)\n",
    "    print(f\"Subscribed to topic: {MQTT_TOPIC}\")\n",
    "\n",
    "def on_message(client, userdata, msg):\n",
    "    try:\n",
    "        # Parse the JSON message\n",
    "        data = json.loads(msg.payload.decode())\n",
    "        mac_address = data[\"mac_address\"]\n",
    "        timestamp_ms = data[\"timestamp\"]\n",
    "        temperature = data[\"temperature\"]\n",
    "        humidity = data[\"humidity\"]\n",
    "        \n",
    "        # Store in Redis TimeSeries\n",
    "        temp_key = f\"{mac_address}:temperature\"\n",
    "        humid_key = f\"{mac_address}:humidity\"\n",
    "        \n",
    "        # # Make sure TimeSeries exist\n",
    "        # create_timeseries_if_not_exists(redis_client, temp_key)\n",
    "        # create_timeseries_if_not_exists(redis_client, humid_key)\n",
    "        \n",
    "        # Add data points\n",
    "        redis_client.ts().add(temp_key, timestamp_ms, temperature)\n",
    "        redis_client.ts().add(humid_key, timestamp_ms, humidity)\n",
    "        \n",
    "        # Print confirmation\n",
    "        print(f\"{datetime.fromtimestamp(timestamp_ms/1000)}: Stored T:{temperature}°C, H:{humidity}%\")\n",
    "        \n",
    "    except json.JSONDecodeError as e:\n",
    "        print(f\"Error decoding message: {e}\")\n",
    "    except Exception as e:\n",
    "        print(f\"Error processing message: {e}\")\n"
   ]
  },
  {
   "cell_type": "markdown",
   "metadata": {
    "cell_id": "0c4954bed8e44597b7a26c4247797b68",
    "deepnote_app_block_visible": false,
    "deepnote_cell_type": "text-cell-h2",
    "formattedRanges": [],
    "is_collapsed": false
   },
   "source": [
    "## MQTT Broker"
   ]
  },
  {
   "cell_type": "code",
   "execution_count": 4,
   "metadata": {
    "cell_id": "e318c3c67bb043cd9bdd2477ff6335b7",
    "deepnote_cell_type": "code",
    "execution_context_id": "fdaf3dc5-4b46-4393-8904-b50557f42635",
    "execution_millis": 17821,
    "execution_start": 1737986299513,
    "source_hash": "58901d8a"
   },
   "outputs": [
    {
     "name": "stderr",
     "output_type": "stream",
     "text": [
      "/tmp/ipykernel_172/4270315520.py:6: DeprecationWarning: Callback API version 1 is deprecated, update to latest version\n",
      "  mqtt_client = mqtt.Client()\n",
      "Starting MQTT loop... Listening on topic s334033\n",
      "Connected to MQTT broker with result code: 0\n",
      "Subscribed to topic: s334033\n",
      "2025-01-27 13:58:21.579000: Stored T:21°C, H:45%\n",
      "2025-01-27 13:58:23.834000: Stored T:21°C, H:45%\n",
      "2025-01-27 13:58:26.088000: Stored T:21°C, H:45%\n",
      "2025-01-27 13:58:28.343000: Stored T:21°C, H:45%\n",
      "2025-01-27 13:58:30.597000: Stored T:21°C, H:45%\n",
      "2025-01-27 13:58:32.852000: Stored T:21°C, H:45%\n",
      "2025-01-27 13:58:35.106000: Stored T:21°C, H:45%\n",
      "Stopping...\n"
     ]
    }
   ],
   "source": [
    "MQTT_BROKER = \"mqtt.eclipseprojects.io\"\n",
    "MQTT_PORT = 1883\n",
    "MQTT_TOPIC = \"s334033\"\n",
    "\n",
    "# Setup MQTT client\n",
    "mqtt_client = mqtt.Client()\n",
    "mqtt_client.on_connect = on_connect\n",
    "mqtt_client.on_message = on_message\n",
    "\n",
    "# Connect to MQTT broker\n",
    "try:\n",
    "    mqtt_client.connect(MQTT_BROKER, MQTT_PORT, 60)\n",
    "    print(f\"Starting MQTT loop... Listening on topic {MQTT_TOPIC}\")\n",
    "    mqtt_client.loop_forever()\n",
    "except KeyboardInterrupt:\n",
    "    print(\"Stopping...\")\n",
    "    mqtt_client.disconnect()\n",
    "except Exception as e:\n",
    "    print(f\"MQTT connection failed: {e}\")\n",
    "    mqtt_client.disconnect()"
   ]
  },
  {
   "cell_type": "markdown",
   "metadata": {
    "created_in_deepnote_cell": true,
    "deepnote_cell_type": "markdown"
   },
   "source": [
    "<a style='text-decoration:none;line-height:16px;display:flex;color:#5B5B62;padding:10px;justify-content:end;' href='https://deepnote.com?utm_source=created-in-deepnote-cell&projectId=5772165a-963f-4d38-9b9d-11ecac130c62' target=\"_blank\">\n",
    "<img alt='Created in deepnote.com' style='display:inline;max-height:16px;margin:0px;margin-right:7.5px;' src='data:image/svg+xml;base64,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' > </img>\n",
    "Created in <span style='font-weight:600;margin-left:4px;'>Deepnote</span></a>"
   ]
  }
 ],
 "metadata": {
  "deepnote_app_layout": "article",
  "deepnote_notebook_id": "9309c6c7c8ca44fe810179e13899beaa",
  "language_info": {
   "name": "python"
  }
 },
 "nbformat": 4,
 "nbformat_minor": 0
}
