{
 "cells": [
  {
   "cell_type": "markdown",
   "metadata": {
    "cell_id": "7fca30add26f4c42809b3447c6c6295a",
    "deepnote_app_coordinates": {
     "h": 5,
     "w": 12,
     "x": 0,
     "y": 1
    },
    "deepnote_cell_type": "markdown",
    "tags": []
   },
   "source": [
    "# Sensors Analytics REST API\n",
    "\n",
    "## Deploy the API\n",
    "- Go to the *Machine* tab, then set *Incoming connections* to **ON**. The API will be accessible through the indicated tunnelling link.  \n",
    "- Run the notebook.\n",
    "\n"
   ]
  },
  {
   "cell_type": "markdown",
   "metadata": {
    "cell_id": "12f41b759061460680e2cab957b2abc7",
    "deepnote_cell_type": "markdown"
   },
   "source": [
    "## Import the required modules"
   ]
  },
  {
   "cell_type": "code",
   "execution_count": 1,
   "metadata": {
    "cell_id": "a70e04c92eb54e89a7e80e40d0e5ad44",
    "deepnote_cell_type": "code",
    "execution_context_id": "37428282-7549-4219-816d-0cecfa2035d7",
    "execution_millis": 2527,
    "execution_start": 1738249114424,
    "source_hash": "b047a79a"
   },
   "outputs": [],
   "source": [
    "import cherrypy\n",
    "import redis\n",
    "from datetime import datetime, timedelta"
   ]
  },
  {
   "cell_type": "markdown",
   "metadata": {
    "cell_id": "07a53dfb65724b1bbb6042c5bc43ed0c",
    "deepnote_cell_type": "markdown"
   },
   "source": [
    "## Connect to the Redis Database"
   ]
  },
  {
   "cell_type": "code",
   "execution_count": 2,
   "metadata": {
    "cell_id": "ec7bd82e5e49472886ae787299527a18",
    "deepnote_cell_type": "code",
    "execution_context_id": "37428282-7549-4219-816d-0cecfa2035d7",
    "execution_millis": 3006,
    "execution_start": 1738249116999,
    "source_hash": "da692323"
   },
   "outputs": [
    {
     "name": "stdout",
     "output_type": "stream",
     "text": [
      "Connected to Redis: True\n"
     ]
    }
   ],
   "source": [
    "REDIS_HOST=\"redis-12999.c135.eu-central-1-1.ec2.redns.redis-cloud.com\"\n",
    "REDIS_PORT=\"12999\"\n",
    "REDIS_USERNAME='default'\n",
    "REDIS_PASSWORD='LHz8VkDlHWjkAFh0jVh6WsyMQEe8c49D'\n",
    "\n",
    "redis_client = redis.Redis(host=REDIS_HOST, port=REDIS_PORT, username=REDIS_USERNAME, password=REDIS_PASSWORD)\n",
    "\n",
    "# Test Redis connection\n",
    "try:\n",
    "    response = redis_client.ping()\n",
    "    print(\"Connected to Redis:\", response)\n",
    "except Exception as e:\n",
    "    print(\"Redis connection failed:\", e)\n",
    "    exit(1)"
   ]
  },
  {
   "cell_type": "markdown",
   "metadata": {
    "cell_id": "08422aa5c2134063b314f6888e1fe1f4",
    "deepnote_cell_type": "markdown"
   },
   "source": [
    "## Instructions:\n",
    "1) Create a class for each endpoint (status, sensors, sensor)\n",
    "    - Status\n",
    "    - Sensors\n",
    "    - Sensor\n",
    "2) For each endpoint, implement the required HTTP methods (GET, POST, PUT, DELETE)\n",
    "    - Status: GET\n",
    "    - Sensors: GET, POST\n",
    "    - Sensor: GET, PUT, DELETE\n",
    "3) Map each object to its target endpoint.\n",
    "    - Status() -> \"/status\"\n",
    "    - Sensors() -> \"/sensors\"\n",
    "    - Sensor() -> \"/sensor\""
   ]
  },
  {
   "cell_type": "markdown",
   "metadata": {
    "cell_id": "c8f62e232d92470c8c6abc242bf2d71b",
    "deepnote_cell_type": "markdown"
   },
   "source": [
    "## Status Endpoint Class"
   ]
  },
  {
   "cell_type": "code",
   "execution_count": 3,
   "metadata": {
    "cell_id": "2cda839496a04c4b800744b6cf413e44",
    "deepnote_cell_type": "code",
    "execution_context_id": "37428282-7549-4219-816d-0cecfa2035d7",
    "execution_millis": 0,
    "execution_start": 1738249120052,
    "source_hash": "57859dac"
   },
   "outputs": [],
   "source": [
    "class Status:\n",
    "    exposed = True\n",
    "    \n",
    "    @cherrypy.tools.json_out()\n",
    "    def GET(self):\n",
    "        return {\n",
    "            'redis_connected': bool(redis_client.ping()),\n",
    "            'status': 'running'\n",
    "        }"
   ]
  },
  {
   "cell_type": "markdown",
   "metadata": {
    "cell_id": "6b5b42e3feb24e3bbafd13f7940f1af2",
    "deepnote_cell_type": "markdown"
   },
   "source": [
    "## Sensors Endpoint Class"
   ]
  },
  {
   "cell_type": "code",
   "execution_count": 4,
   "metadata": {
    "cell_id": "5d54d1adddc1450e8206cfd2870960f8",
    "deepnote_cell_type": "code",
    "execution_context_id": "37428282-7549-4219-816d-0cecfa2035d7",
    "execution_millis": 0,
    "execution_start": 1738249120104,
    "source_hash": "b8cccf88"
   },
   "outputs": [],
   "source": [
    "class Sensors:\n",
    "    exposed = True\n",
    "    \n",
    "    @cherrypy.tools.json_out()\n",
    "    def GET(self):\n",
    "        try:\n",
    "            # Get all sensor entries from Redis\n",
    "            sensors = []\n",
    "            mac_address = None\n",
    "            for key in redis_client.scan_iter(\"*\"):\n",
    "                if not mac_address:\n",
    "                    mac_address = key.decode().split(\":\")[0]\n",
    "                sensor = key.decode().split(\":\")[1]\n",
    "                if mac_address not in sensors:\n",
    "                    sensors.append(sensor)\n",
    "            \n",
    "            return {\"sensors\": sensors, \"mac_address\":  mac_address}\n",
    "            \n",
    "        except Exception as e:\n",
    "            raise cherrypy.HTTPError(500, str(e))\n",
    "\n",
    "    @cherrypy.tools.json_in()\n",
    "    @cherrypy.tools.json_out()\n",
    "    def POST(self):\n",
    "        try:\n",
    "            # Get JSON data from request body\n",
    "            data = cherrypy.request.json\n",
    "            \n",
    "            # Check if mac_address is in the request\n",
    "            if 'mac_address' not in data:\n",
    "                raise cherrypy.HTTPError(400, 'Missing mac_address in request body')\n",
    "            \n",
    "            # get the mac_address from payload\n",
    "            mac_address = data['mac_address']\n",
    "            \n",
    "            # Create temperature and humidity timeseries\n",
    "            temp_key = f\"{mac_address}:temperature\"\n",
    "            humid_key = f\"{mac_address}:humidity\"\n",
    "\n",
    "            # handle different scenarios, \n",
    "            # for example in case database temp_key already exists but humid_key does not.\n",
    "            # or vice versa\n",
    "            if redis_client.exists(temp_key):\n",
    "                if redis_client.exists(humid_key):\n",
    "                    raise cherrypy.HTTPError(409, f'Sensor temperature, humidity both already exist.')\n",
    "                else:\n",
    "                    print(\" humidity successfully registered\")\n",
    "                    redis_client.ts().create(humid_key)\n",
    "                    return {\"message\": f\"Sensor humidity successfully registered\"}\n",
    "                raise cherrypy.HTTPError(409, f'Sensor temperature already exists')\n",
    "            else:\n",
    "                redis_client.ts().create(temp_key)\n",
    "                if redis_client.exists(humid_key):\n",
    "                    raise cherrypy.HTTPError(409, f'Sensor humidity already exists')\n",
    "                else:\n",
    "                    redis_client.ts().create(humid_key)\n",
    "                    return {\"message\": f\"Sensor temperature, humidity successfully registered\"}\n",
    "            \n",
    "        except cherrypy.HTTPError:\n",
    "            raise\n",
    "        except Exception as e:\n",
    "            raise cherrypy.HTTPError(500, str(e))"
   ]
  },
  {
   "cell_type": "markdown",
   "metadata": {
    "cell_id": "1473846a16024ae9bd06583b91d55919",
    "deepnote_cell_type": "markdown"
   },
   "source": [
    "## Sensor Endpoint Class"
   ]
  },
  {
   "cell_type": "code",
   "execution_count": 5,
   "metadata": {
    "cell_id": "0cd480fd941e423c854c059e9e8c8784",
    "deepnote_cell_type": "code",
    "execution_context_id": "37428282-7549-4219-816d-0cecfa2035d7",
    "execution_millis": 0,
    "execution_start": 1738249120160,
    "source_hash": "6a589cf2"
   },
   "outputs": [],
   "source": [
    "class HistoricalData:\n",
    "    exposed = True\n",
    "    \n",
    "    def validate_date(self, date_str):\n",
    "        try:\n",
    "            return datetime.strptime(date_str, '%Y-%m-%d')\n",
    "        except ValueError:\n",
    "            raise cherrypy.HTTPError(400, f'Wrong format for date: {date_str}. Use YYYY-MM-DD format.')\n",
    "    \n",
    "    @cherrypy.tools.json_out()\n",
    "    def GET(self, mac_address, start_date=None, end_date=None):\n",
    "        try:\n",
    "            # Debug logging\n",
    "            cherrypy.log(f\"Received request for mac_address: {mac_address}\")\n",
    "            cherrypy.log(f\"start_date: {start_date}, end_date: {end_date}\")\n",
    "\n",
    "            # Validate required parameters\n",
    "            if not mac_address:\n",
    "                raise cherrypy.HTTPError(400, 'Missing MAC address')\n",
    "            if not start_date:\n",
    "                raise cherrypy.HTTPError(400, 'Missing start date')\n",
    "            if not end_date:\n",
    "                raise cherrypy.HTTPError(400, 'Missing end date')\n",
    "                \n",
    "            # Validate date formats and range\n",
    "            start = self.validate_date(start_date)\n",
    "            end = self.validate_date(end_date)\n",
    "            cherrypy.log(f\"Validated dates - start: {start}, end: {end}\")\n",
    "            \n",
    "            if end <= start:\n",
    "                raise cherrypy.HTTPError(400, 'End date must be greater than start date')\n",
    "            \n",
    "            # Convert dates to timestamps (milliseconds)\n",
    "            start_ts = int(start.timestamp() * 1000)\n",
    "            end_ts = int((end + timedelta(days=1)).timestamp() * 1000)\n",
    "            cherrypy.log(f\"Timestamp range: {start_ts} to {end_ts}\")\n",
    "\n",
    "            # Check if sensor exists\n",
    "            temp_key = f\"{mac_address}:temperature\"\n",
    "            humid_key = f\"{mac_address}:humidity\"\n",
    "            \n",
    "            cherrypy.log(f\"Checking keys: {temp_key} and {humid_key}\")\n",
    "            cherrypy.log(f\"Temperature key exists: {redis_client.exists(temp_key)}\")\n",
    "            cherrypy.log(f\"Humidity key exists: {redis_client.exists(humid_key)}\")\n",
    "\n",
    "            if not (redis_client.exists(temp_key) and redis_client.exists(humid_key)):\n",
    "                raise cherrypy.HTTPError(404, f'MAC address {mac_address} not found or data incomplete')\n",
    "\n",
    "            try:\n",
    "                # Fetch data from Redis TimeSeries\n",
    "                temp_data = redis_client.ts().range(temp_key, start_ts, end_ts)\n",
    "                humid_data = redis_client.ts().range(humid_key, start_ts, end_ts)\n",
    "                cherrypy.log(f\"Retrieved {len(temp_data)} temperature readings and {len(humid_data)} humidity readings\")\n",
    "            except redis.ResponseError as e:\n",
    "                cherrypy.log(f\"Redis error: {str(e)}\")\n",
    "                raise cherrypy.HTTPError(500, f'Redis TimeSeries error: {str(e)}')\n",
    "\n",
    "            # Format response\n",
    "            timestamps = []\n",
    "            temperatures = []\n",
    "            humidities = []\n",
    "            \n",
    "            # Process temperature and humidity data\n",
    "            temp_dict = {ts: val for ts, val in temp_data}\n",
    "            humid_dict = {ts: val for ts, val in humid_data}\n",
    "            \n",
    "            # Get all timestamps\n",
    "            all_timestamps = sorted(set(temp_dict.keys()) | set(humid_dict.keys()))\n",
    "            cherrypy.log(f\"Total unique timestamps: {len(all_timestamps)}\")\n",
    "            \n",
    "            for ts in all_timestamps:\n",
    "                timestamps.append(ts)\n",
    "                temperatures.append(temp_dict.get(ts, None))\n",
    "                humidities.append(humid_dict.get(ts, None))\n",
    "            \n",
    "            return {\n",
    "                \"mac_address\": mac_address,\n",
    "                \"timestamp\": timestamps,\n",
    "                \"temperature\": temperatures,\n",
    "                \"humidity\": humidities\n",
    "            }\n",
    "                \n",
    "        except cherrypy.HTTPError:\n",
    "            raise\n",
    "        except Exception as e:\n",
    "            cherrypy.log(f\"Unexpected error: {str(e)}\")\n",
    "            raise cherrypy.HTTPError(500, f'Internal server error: {str(e)}')"
   ]
  },
  {
   "cell_type": "markdown",
   "metadata": {
    "cell_id": "7814ac1c98074e3888ef73cd40a9096b",
    "deepnote_cell_type": "markdown"
   },
   "source": [
    "## Setup cherrypy and Map objects to their target endpoints"
   ]
  },
  {
   "cell_type": "code",
   "execution_count": null,
   "metadata": {
    "cell_id": "2aa8fe4fc7d047febd2420e326ef9a89",
    "deepnote_cell_type": "code",
    "execution_context_id": "37428282-7549-4219-816d-0cecfa2035d7",
    "execution_millis": 332973,
    "execution_start": 1738249120208,
    "source_hash": "cd0d6ba"
   },
   "outputs": [
    {
     "name": "stderr",
     "output_type": "stream",
     "text": [
      "[30/Jan/2025:14:58:40] ENGINE Bus STARTING\n",
      "CherryPy Checker:\n",
      "The config entry 'cors.expose.on' is invalid, because the 'cors' config namespace is unknown.\n",
      "section: [/]\n",
      "\n",
      "[30/Jan/2025:14:58:40] ENGINE Started monitor thread 'Autoreloader'.\n",
      "[30/Jan/2025:14:58:40] ENGINE Serving on http://0.0.0.0:8080\n",
      "[30/Jan/2025:14:58:40] ENGINE Bus STARTED\n",
      "172.3.28.49 - - [30/Jan/2025:14:59:00] \"GET /status HTTP/1.1\" 200 46 \"\" \"python-requests/2.32.3\"\n",
      "172.3.186.144 - - [30/Jan/2025:14:59:03] \"POST /sensors HTTP/1.1\" 409 1960 \"\" \"python-requests/2.32.3\"\n",
      "172.3.28.49 - - [30/Jan/2025:14:59:16] \"POST /sensors HTTP/1.1\" 409 1960 \"\" \"python-requests/2.32.3\"\n",
      "172.3.50.42 - - [30/Jan/2025:14:59:23] \"POST /sensors HTTP/1.1\" 409 1960 \"\" \"python-requests/2.32.3\"\n",
      "[30/Jan/2025:14:59:27]  Received request for mac_address: 0xe45f01e89bd0\n",
      "[30/Jan/2025:14:59:27]  start_date: 2025-01-23, end_date: 2025-01-30\n",
      "[30/Jan/2025:14:59:27]  Validated dates - start: 2025-01-23 00:00:00, end: 2025-01-30 00:00:00\n",
      "[30/Jan/2025:14:59:27]  Timestamp range: 1737590400000 to 1738281600000\n",
      "[30/Jan/2025:14:59:27]  Checking keys: 0xe45f01e89bd0:temperature and 0xe45f01e89bd0:humidity\n",
      "[30/Jan/2025:14:59:27]  Temperature key exists: 1\n",
      "[30/Jan/2025:14:59:28]  Humidity key exists: 1\n",
      "[30/Jan/2025:14:59:30]  Retrieved 176 temperature readings and 176 humidity readings\n",
      "[30/Jan/2025:14:59:30]  Total unique timestamps: 176\n",
      "172.3.186.144 - - [30/Jan/2025:14:59:30] \"GET /data/0xe45f01e89bd0?start_date=2025-01-23&end_date=2025-01-30 HTTP/1.1\" 200 4831 \"\" \"python-requests/2.32.3\"\n"
     ]
    }
   ],
   "source": [
    "# Global configuration\n",
    "conf = {\n",
    "    '/': {\n",
    "        'request.dispatch': cherrypy.dispatch.MethodDispatcher(),\n",
    "        'tools.sessions.on': True,\n",
    "        'tools.response_headers.on': True,\n",
    "        'tools.response_headers.headers': [('Content-Type', 'application/json')],\n",
    "        'cors.expose.on': True\n",
    "    }\n",
    "}\n",
    "\n",
    "# Mount endpoints\n",
    "cherrypy.tree.mount(Status(), '/status', conf)\n",
    "cherrypy.tree.mount(Sensors(), '/sensors', conf)\n",
    "cherrypy.tree.mount(HistoricalData(), '/data', conf)\n",
    "\n",
    "# Server configuration\n",
    "cherrypy.config.update({'server.socket_host': '0.0.0.0'})\n",
    "cherrypy.config.update({'server.socket_port': 8080})\n",
    "\n",
    "# Start the server\n",
    "cherrypy.engine.start()\n",
    "cherrypy.engine.block()"
   ]
  },
  {
   "cell_type": "markdown",
   "metadata": {
    "created_in_deepnote_cell": true,
    "deepnote_cell_type": "markdown"
   },
   "source": [
    "<a style='text-decoration:none;line-height:16px;display:flex;color:#5B5B62;padding:10px;justify-content:end;' href='https://deepnote.com?utm_source=created-in-deepnote-cell&projectId=5772165a-963f-4d38-9b9d-11ecac130c62' target=\"_blank\">\n",
    "<img alt='Created in deepnote.com' style='display:inline;max-height:16px;margin:0px;margin-right:7.5px;' src='data:image/svg+xml;base64,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' > </img>\n",
    "Created in <span style='font-weight:600;margin-left:4px;'>Deepnote</span></a>"
   ]
  }
 ],
 "metadata": {
  "deepnote_app_layout": "article",
  "deepnote_notebook_id": "63650d4a2067484883a58f5b01de35ce",
  "kernelspec": {
   "display_name": "ml4iot",
   "language": "python",
   "name": "python3"
  },
  "language_info": {
   "name": "python",
   "version": "3.11.11"
  }
 },
 "nbformat": 4,
 "nbformat_minor": 0
}
