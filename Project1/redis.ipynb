{
 "cells": [
  {
   "cell_type": "code",
   "execution_count": null,
   "metadata": {},
   "outputs": [],
   "source": [
    " import redis\n",
    "\n",
    "\n",
    "REDIS_HOST = \"redis-15814.c293.eu-central-1-1.ec2.redns.redis-cloud.com\"\n",
    "REDIS_PORT = 15814\n",
    "REDIS_USERNAME = 'default'\n",
    "REDIS_PASSWORD = 'L3nyrpiPme82rfB6DmO8hMTv0oNGDwzi'\n",
    "MAC_ADDRESS = \"e4:5f:01:e8:9b:d0\"\n",
    "\n",
    "redis_client = redis.Redis(host=REDIS_HOST, port=REDIS_PORT, username=REDIS_USERNAME, password=REDIS_PASSWORD)\n",
    "\n",
    "is_connected = redis_client.ping()\n",
    "print('Redis Connected:', is_connected)\n"
   ]
  }
 ],
 "metadata": {
  "kernelspec": {
   "display_name": "venv",
   "language": "python",
   "name": "python3"
  },
  "language_info": {
   "codemirror_mode": {
    "name": "ipython",
    "version": 3
   },
   "file_extension": ".py",
   "mimetype": "text/x-python",
   "name": "python",
   "nbconvert_exporter": "python",
   "pygments_lexer": "ipython3",
   "version": "3.12.6"
  }
 },
 "nbformat": 4,
 "nbformat_minor": 2
}
